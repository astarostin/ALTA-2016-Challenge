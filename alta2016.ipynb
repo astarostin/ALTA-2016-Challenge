{
 "cells": [
  {
   "cell_type": "code",
   "execution_count": 1,
   "metadata": {
    "collapsed": false
   },
   "outputs": [
    {
     "data": {
      "text/html": [
       "<div>\n",
       "<table border=\"1\" class=\"dataframe\">\n",
       "  <thead>\n",
       "    <tr style=\"text-align: right;\">\n",
       "      <th></th>\n",
       "      <th>AUrl</th>\n",
       "      <th>BUrl</th>\n",
       "      <th>Outcome</th>\n",
       "    </tr>\n",
       "    <tr>\n",
       "      <th>Id</th>\n",
       "      <th></th>\n",
       "      <th></th>\n",
       "      <th></th>\n",
       "    </tr>\n",
       "  </thead>\n",
       "  <tbody>\n",
       "    <tr>\n",
       "      <th>0</th>\n",
       "      <td>www.allmusic.com/artist/sufjan-stevens-mn00005...</td>\n",
       "      <td>www.rollingstone.com/music/artists/sufjan-stevens</td>\n",
       "      <td>1</td>\n",
       "    </tr>\n",
       "    <tr>\n",
       "      <th>1</th>\n",
       "      <td>www.imdb.com/name/nm0346360</td>\n",
       "      <td>https://www.fandor.com/filmmakers/director-jos...</td>\n",
       "      <td>1</td>\n",
       "    </tr>\n",
       "    <tr>\n",
       "      <th>2</th>\n",
       "      <td>www.imdb.com/name/nm1017334</td>\n",
       "      <td>https://www.linkedin.com/in/juno-temple-32152375</td>\n",
       "      <td>1</td>\n",
       "    </tr>\n",
       "    <tr>\n",
       "      <th>3</th>\n",
       "      <td>https://www.linkedin.com/in/kathywolfe</td>\n",
       "      <td>https://twitter.com/RepWolfeMoore</td>\n",
       "      <td>0</td>\n",
       "    </tr>\n",
       "    <tr>\n",
       "      <th>4</th>\n",
       "      <td>https://www.linkedin.com/in/mipetersen</td>\n",
       "      <td>https://www.researchgate.net/profile/Mikael_Pe...</td>\n",
       "      <td>0</td>\n",
       "    </tr>\n",
       "  </tbody>\n",
       "</table>\n",
       "</div>"
      ],
      "text/plain": [
       "                                                 AUrl  \\\n",
       "Id                                                      \n",
       "0   www.allmusic.com/artist/sufjan-stevens-mn00005...   \n",
       "1                         www.imdb.com/name/nm0346360   \n",
       "2                         www.imdb.com/name/nm1017334   \n",
       "3              https://www.linkedin.com/in/kathywolfe   \n",
       "4              https://www.linkedin.com/in/mipetersen   \n",
       "\n",
       "                                                 BUrl  Outcome  \n",
       "Id                                                              \n",
       "0   www.rollingstone.com/music/artists/sufjan-stevens        1  \n",
       "1   https://www.fandor.com/filmmakers/director-jos...        1  \n",
       "2    https://www.linkedin.com/in/juno-temple-32152375        1  \n",
       "3                   https://twitter.com/RepWolfeMoore        0  \n",
       "4   https://www.researchgate.net/profile/Mikael_Pe...        0  "
      ]
     },
     "execution_count": 1,
     "metadata": {},
     "output_type": "execute_result"
    }
   ],
   "source": [
    "import pandas as pd\n",
    "import numpy as np\n",
    "\n",
    "pairs_train = pd.read_csv('data/alta16_kbcoref_train_pairs.csv', sep=',', index_col='Id')\n",
    "labels_train = pd.read_csv('data/alta16_kbcoref_train_labels.csv', sep=',', index_col='Id')\n",
    "data_train = pairs_train.join(labels_train, how='inner')\n",
    "\n",
    "data_train.head()"
   ]
  },
  {
   "cell_type": "code",
   "execution_count": null,
   "metadata": {
    "collapsed": true
   },
   "outputs": [],
   "source": []
  }
 ],
 "metadata": {
  "kernelspec": {
   "display_name": "Python 2",
   "language": "python",
   "name": "python2"
  },
  "language_info": {
   "codemirror_mode": {
    "name": "ipython",
    "version": 2
   },
   "file_extension": ".py",
   "mimetype": "text/x-python",
   "name": "python",
   "nbconvert_exporter": "python",
   "pygments_lexer": "ipython2",
   "version": "2.7.11"
  }
 },
 "nbformat": 4,
 "nbformat_minor": 0
}
